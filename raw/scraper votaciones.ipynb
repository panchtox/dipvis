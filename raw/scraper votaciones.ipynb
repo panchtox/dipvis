{
 "metadata": {
  "name": "scraper votaciones"
 },
 "nbformat": 3,
 "nbformat_minor": 0,
 "worksheets": [
  {
   "cells": [
    {
     "cell_type": "heading",
     "level": 2,
     "metadata": {},
     "source": [
      "Lista de los archivos PDF a descargar"
     ]
    },
    {
     "cell_type": "code",
     "collapsed": false,
     "input": [
      "import requests\n",
      "import lxml.etree\n",
      "import lxml.html\n",
      "with open(\"lista_pdf.txt\",\"w\") as out:\n",
      "    for anio in range(2003,2014):\n",
      "        html =  requests.get(\"http://www.hcdn.gov.ar/secadmin/ds_electronicos/periodo/\"+str(anio)+\"/index.html\").content\n",
      "        root = lxml.html.fromstring(html)\n",
      "        out.write(\"\\n\".join([x.attrib[\"href\"] for x in root.cssselect(\"[href$=pdf]\")]))"
     ],
     "language": "python",
     "metadata": {},
     "outputs": []
    },
    {
     "cell_type": "heading",
     "level": 2,
     "metadata": {},
     "source": [
      "Convierte txt a info"
     ]
    },
    {
     "cell_type": "code",
     "collapsed": false,
     "input": [
      "import codecs\n",
      "from os import listdir\n",
      "import re\n",
      "import csv"
     ],
     "language": "python",
     "metadata": {},
     "outputs": []
    },
    {
     "cell_type": "code",
     "collapsed": false,
     "input": [
      "obtener_hora = re.compile(r\"Hora:\\s+(([01]?[0-9]|2[0-3]):[0-5][0-9])\")\n",
      "obtener_fecha = re.compile(r\"Fecha:\\s+((\\d+/\\d+/\\d+))\")\n",
      "obtener_exp = re.compile(r\"(\\d+\\s*-\\s*\\w+\\s*-\\s*\\d+)\")"
     ],
     "language": "python",
     "metadata": {},
     "outputs": []
    },
    {
     "cell_type": "code",
     "collapsed": false,
     "input": [
      "def obtener_votacion(archivo,out):\n",
      "    txt = codecs.open(\"txt/\"+ nombre_txt,\"r\",\"ISO-8859-2\").read()\n",
      "    fecha = obtener_fecha.search(txt).group(1)\n",
      "    lineas = txt.splitlines()\n",
      "    for i in range(len(lineas)):\n",
      "        if lineas[i].find(\"Vota\") > -1:\n",
      "            break\n",
      "    else:\n",
      "        print archivo\n",
      "    acta = lineas[i + 1].strip()\n",
      "    periodo = lineas[i + 2].strip()\n",
      "\n",
      "    contar_votos = 0\n",
      "    votos = []\n",
      "    for l in txt.splitlines():\n",
      "        if (l.find(\"AFIRMATIVO\") > 0 or l.find(\"NEGATIVO\") > 0 \\\n",
      "           or l.find(\"AUSENTE\") > 0 or l.find(\"ABSTENCION\") > 0) and l.find(\":\") == -1:\n",
      "                columnas = l.strip().split(\"  \")\n",
      "                columnas = [ x.strip() for x in columnas if x != '' ]\n",
      "                if len(columnas) >= 4:\n",
      "                    votos.append(columnas)\n",
      "                    contar_votos += 1\n",
      "    if contar_votos != 0:\n",
      "        for voto in votos:\n",
      "            #print \",\".join(['\"'+voto[0]+'\"','\"'+voto[1]+'\"',\"\",'\"'+voto[2]+'\"','\"'+periodo+'\"',\"\",fecha.replace(\"/\",\",\"),acta,voto[3]]) + \"\\n\"\n",
      "            out.write(\",\".join(['\"'+voto[0]+'\"','\"'+voto[1]+'\"',\"\",'\"'+voto[2]+'\"','\"'+periodo+'\"',\"\",fecha.replace(\"/\",\",\"),acta,voto[3]]) + \"\\n\")\n"
     ],
     "language": "python",
     "metadata": {},
     "outputs": [],
     "prompt_number": 44
    },
    {
     "cell_type": "code",
     "collapsed": false,
     "input": [
      "header = [\"legislador\",\"bloque\",\"agrupacion\",\"provincia\",\"periodo\",\"sesion\",\"dia\",\"mes\",\"anio\",\"acta\",\"voto\"]\n",
      "\n",
      "with codecs.open(\"output_ale.txt\",\"w\",\"ISO-8859-2\") as out:\n",
      "    out.write(\",\".join(header) + \"\\n\")\n",
      "    for nombre_txt in listdir(\"txt\"):\n",
      "        obtener_votacion(nombre_txt,out)"
     ],
     "language": "python",
     "metadata": {},
     "outputs": []
    }
   ],
   "metadata": {}
  }
 ]
}